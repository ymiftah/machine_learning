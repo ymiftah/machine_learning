{
  "nbformat": 4,
  "nbformat_minor": 0,
  "metadata": {
    "colab": {
      "name": "digits_mnist.ipynb",
      "provenance": [],
      "collapsed_sections": [],
      "toc_visible": true,
      "include_colab_link": true
    },
    "kernelspec": {
      "name": "python3",
      "display_name": "Python 3"
    },
    "accelerator": "GPU"
  },
  "cells": [
    {
      "cell_type": "markdown",
      "metadata": {
        "id": "view-in-github",
        "colab_type": "text"
      },
      "source": [
        "<a href=\"https://colab.research.google.com/github/ymiftah/machine_learning/blob/master/digits_mnist.ipynb\" target=\"_parent\"><img src=\"https://colab.research.google.com/assets/colab-badge.svg\" alt=\"Open In Colab\"/></a>"
      ]
    },
    {
      "cell_type": "markdown",
      "metadata": {
        "id": "w_LVLABepUv0",
        "colab_type": "text"
      },
      "source": [
        "# Digits MNIST\n",
        "\n",
        "This notebook retrace various experiments with the MNIST dataset. A final estimator was built for a Kaggle submission"
      ]
    },
    {
      "cell_type": "code",
      "metadata": {
        "id": "N5CBD2Ii6JTK",
        "colab_type": "code",
        "colab": {}
      },
      "source": [
        "from sklearn.datasets import fetch_openml\n",
        "import pandas as pd\n",
        "import matplotlib.pyplot as plt\n",
        "import matplotlib as mpl\n",
        "import numpy as np"
      ],
      "execution_count": 0,
      "outputs": []
    },
    {
      "cell_type": "markdown",
      "metadata": {
        "id": "WhuRZiJqp2a4",
        "colab_type": "text"
      },
      "source": [
        "We fetch the data from openml database"
      ]
    },
    {
      "cell_type": "code",
      "metadata": {
        "id": "qZxuQued6lN2",
        "colab_type": "code",
        "outputId": "1502a554-942d-4e21-884d-c0842b041f9e",
        "colab": {
          "base_uri": "https://localhost:8080/",
          "height": 33
        }
      },
      "source": [
        "mnist = fetch_openml('mnist_784')\n",
        "X, y = mnist['data'], mnist['target']\n",
        "y = y.astype(np.uint8)\n",
        "print(y.shape)"
      ],
      "execution_count": 20,
      "outputs": [
        {
          "output_type": "stream",
          "text": [
            "(70000,)\n"
          ],
          "name": "stdout"
        }
      ]
    },
    {
      "cell_type": "markdown",
      "metadata": {
        "id": "LUhWS5jcqPMk",
        "colab_type": "text"
      },
      "source": [
        "Looking at a histogram for each class, we see that they are not evenly distributed, but the difference should be minor"
      ]
    },
    {
      "cell_type": "code",
      "metadata": {
        "id": "7nnuLswPfq1y",
        "colab_type": "code",
        "outputId": "8662856a-d01f-4096-ab94-b0a7e6b54c91",
        "colab": {
          "base_uri": "https://localhost:8080/",
          "height": 265
        }
      },
      "source": [
        "bins = np.arange(0, 9 + 1.5) - 0.5\n",
        "# then you plot away\n",
        "fig, ax = plt.subplots()\n",
        "_ = ax.hist(y, bins)\n",
        "ax.set_xticks(bins+0.5)\n",
        "plt.show()"
      ],
      "execution_count": 21,
      "outputs": [
        {
          "output_type": "display_data",
          "data": {
            "image/png": "[encoded data removed]",
            "text/plain": [
              "<Figure size 432x288 with 1 Axes>"
            ]
          },
          "metadata": {
            "tags": []
          }
        }
      ]
    },
    {
      "cell_type": "markdown",
      "metadata": {
        "id": "E4DmZcQErRie",
        "colab_type": "text"
      },
      "source": [
        "Lets look at one of the digit and its label"
      ]
    },
    {
      "cell_type": "code",
      "metadata": {
        "id": "GrfZ4sXo68K6",
        "colab_type": "code",
        "outputId": "cf54ec4c-4cbb-46c4-c6e0-3d8e399f4185",
        "colab": {
          "base_uri": "https://localhost:8080/",
          "height": 281
        }
      },
      "source": [
        "digit = X[9]\n",
        "digit_im = digit.reshape(28, 28)\n",
        "plt.imshow(digit_im, interpolation='nearest', cmap=mpl.cm.binary)\n",
        "print('This is a %d' %int(y[9]))"
      ],
      "execution_count": 22,
      "outputs": [
        {
          "output_type": "stream",
          "text": [
            "This is a 4\n"
          ],
          "name": "stdout"
        },
        {
          "output_type": "display_data",
          "data": {
            "image/png": "[encoded data removed]",
            "text/plain": [
              "<Figure size 432x288 with 1 Axes>"
            ]
          },
          "metadata": {
            "tags": []
          }
        }
      ]
    },
    {
      "cell_type": "code",
      "metadata": {
        "id": "z49xIlQY7TpW",
        "colab_type": "code",
        "colab": {}
      },
      "source": [
        "from sklearn.model_selection import train_test_split\n",
        "\n",
        "X_train, X_test, y_train, y_test = train_test_split(X, y, test_size=0.3,\n",
        "                                                    random_state=42)"
      ],
      "execution_count": 0,
      "outputs": []
    },
    {
      "cell_type": "markdown",
      "metadata": {
        "id": "HyYFHYjJrcuy",
        "colab_type": "text"
      },
      "source": [
        "We start by scaling our data between 0 and 1"
      ]
    },
    {
      "cell_type": "code",
      "metadata": {
        "id": "BE5WuNdD7MCc",
        "colab_type": "code",
        "colab": {}
      },
      "source": [
        "X_train /= 255\n",
        "X_test /= 255"
      ],
      "execution_count": 0,
      "outputs": []
    },
    {
      "cell_type": "markdown",
      "metadata": {
        "id": "F7-uZS1blfmX",
        "colab_type": "text"
      },
      "source": [
        "We also prepare the Image data generator for the Deep Neural Network trained later"
      ]
    },
    {
      "cell_type": "code",
      "metadata": {
        "id": "J_PbXnBYu_Dm",
        "colab_type": "code",
        "colab": {}
      },
      "source": [
        "from keras.preprocessing.image import ImageDataGenerator\n",
        "# applying transformation to image\n",
        "train_gen = ImageDataGenerator(rotation_range=20, \n",
        "                               width_shift_range=0.1, \n",
        "                               shear_range=0.3, \n",
        "                               height_shift_range=0.08, \n",
        "                               zoom_range=0.08 )\n",
        "training_set = train_gen.flow(X_train.reshape((X_train.shape[0], 28, 28, 1)), y_train, batch_size=128)\n",
        "test_set= train_gen.flow(X_test.reshape((X_test.shape[0], 28, 28, 1)), y_test, batch_size=128)"
      ],
      "execution_count": 0,
      "outputs": []
    },
    {
      "cell_type": "code",
      "metadata": {
        "id": "MPn0h37qy24w",
        "colab_type": "code",
        "outputId": "04615ef7-ce26-4491-ae01-9f2b466c0756",
        "colab": {
          "base_uri": "https://localhost:8080/",
          "height": 33
        }
      },
      "source": [
        "def forest_training(iterations, generator):\n",
        "    X = []\n",
        "    Y = []\n",
        "    for _ in range(iterations):\n",
        "        x, y = generator.next()\n",
        "        x = x.reshape((x.shape[0], 28*28*1))\n",
        "        X.append(x)\n",
        "        Y.append(y)\n",
        "    X = np.concatenate(X)\n",
        "    Y = np.concatenate(Y)\n",
        "    return X, Y\n",
        "\n",
        "Xf, Yf = forest_training(1500, training_set)\n",
        "print(Yf.shape)"
      ],
      "execution_count": 26,
      "outputs": [
        {
          "output_type": "stream",
          "text": [
            "(191928,)\n"
          ],
          "name": "stdout"
        }
      ]
    },
    {
      "cell_type": "markdown",
      "metadata": {
        "id": "lKvD-17-bYZz",
        "colab_type": "text"
      },
      "source": [
        "## Neural Network\n",
        "\n",
        "In this section we will fit a neural network."
      ]
    },
    {
      "cell_type": "code",
      "metadata": {
        "id": "-lBrtTeTba7J",
        "colab_type": "code",
        "colab": {}
      },
      "source": [
        "from __future__ import absolute_import, division, print_function, unicode_literals\n",
        "\n",
        "import tensorflow as tf\n",
        "\n",
        "from tensorflow.keras import datasets, layers, models\n",
        "\n",
        "def create_model():\n",
        "    # Define Model\n",
        "    model = models.Sequential()\n",
        "    model.add(layers.Conv2D(128, (3, 3), activation='relu', input_shape=(28, 28, 1)))\n",
        "    model.add(layers.MaxPooling2D((2, 2)))\n",
        "    model.add(layers.Conv2D(64, (3, 3), activation='relu'))\n",
        "    model.add(layers.MaxPooling2D((2, 2)))\n",
        "    model.add(layers.Conv2D(64, (3, 3), activation='relu'))\n",
        "    model.add(layers.Flatten())\n",
        "    model.add(layers.Dense(64, activation='relu'))\n",
        "    model.add(layers.Dense(10, activation='softmax'))\n",
        "\n",
        "    # Compile Model\n",
        "    model.compile(optimizer='adam',\n",
        "                  loss='sparse_categorical_crossentropy',\n",
        "                  metrics=['accuracy'])\n",
        "    return model"
      ],
      "execution_count": 0,
      "outputs": []
    },
    {
      "cell_type": "code",
      "metadata": {
        "id": "AOO8HuYQb4QC",
        "colab_type": "code",
        "colab": {}
      },
      "source": [
        "model = create_model()"
      ],
      "execution_count": 0,
      "outputs": []
    },
    {
      "cell_type": "code",
      "metadata": {
        "id": "dkpSmDUyc1QC",
        "colab_type": "code",
        "outputId": "8b5d67f3-5968-407d-cdd2-35df8aa33b52",
        "colab": {
          "base_uri": "https://localhost:8080/",
          "height": 1000
        }
      },
      "source": [
        "model.fit_generator(training_set, \n",
        "                     steps_per_epoch=60000//128, \n",
        "                     validation_data= test_set, \n",
        "                     validation_steps=10000//128, \n",
        "                     epochs=20)"
      ],
      "execution_count": 29,
      "outputs": [
        {
          "output_type": "stream",
          "text": [
            "Epoch 1/20\n",
            "467/468 [============================>.] - ETA: 0s - loss: 0.4118 - acc: 0.8693Epoch 1/20\n",
            "468/468 [==============================] - 33s 70ms/step - loss: 0.4114 - acc: 0.8694 - val_loss: 0.1558 - val_acc: 0.9512\n",
            "Epoch 2/20\n",
            "467/468 [============================>.] - ETA: 0s - loss: 0.1273 - acc: 0.9611Epoch 1/20\n",
            "468/468 [==============================] - 31s 67ms/step - loss: 0.1272 - acc: 0.9611 - val_loss: 0.0961 - val_acc: 0.9697\n",
            "Epoch 3/20\n",
            "467/468 [============================>.] - ETA: 0s - loss: 0.0948 - acc: 0.9710Epoch 1/20\n",
            "468/468 [==============================] - 32s 68ms/step - loss: 0.0950 - acc: 0.9709 - val_loss: 0.0739 - val_acc: 0.9757\n",
            "Epoch 4/20\n",
            "467/468 [============================>.] - ETA: 0s - loss: 0.0758 - acc: 0.9762Epoch 1/20\n",
            "468/468 [==============================] - 31s 67ms/step - loss: 0.0758 - acc: 0.9763 - val_loss: 0.0697 - val_acc: 0.9779\n",
            "Epoch 5/20\n",
            "467/468 [============================>.] - ETA: 0s - loss: 0.0630 - acc: 0.9800Epoch 1/20\n",
            "468/468 [==============================] - 31s 67ms/step - loss: 0.0630 - acc: 0.9800 - val_loss: 0.0687 - val_acc: 0.9781\n",
            "Epoch 6/20\n",
            "467/468 [============================>.] - ETA: 0s - loss: 0.0578 - acc: 0.9816Epoch 1/20\n",
            "468/468 [==============================] - 31s 67ms/step - loss: 0.0579 - acc: 0.9816 - val_loss: 0.0589 - val_acc: 0.9833\n",
            "Epoch 7/20\n",
            "467/468 [============================>.] - ETA: 0s - loss: 0.0537 - acc: 0.9828Epoch 1/20\n",
            "468/468 [==============================] - 32s 68ms/step - loss: 0.0537 - acc: 0.9827 - val_loss: 0.0452 - val_acc: 0.9848\n",
            "Epoch 8/20\n",
            "467/468 [============================>.] - ETA: 0s - loss: 0.0494 - acc: 0.9850Epoch 1/20\n",
            "468/468 [==============================] - 32s 68ms/step - loss: 0.0494 - acc: 0.9849 - val_loss: 0.0469 - val_acc: 0.9859\n",
            "Epoch 9/20\n",
            "467/468 [============================>.] - ETA: 0s - loss: 0.0451 - acc: 0.9860Epoch 1/20\n",
            "468/468 [==============================] - 31s 66ms/step - loss: 0.0451 - acc: 0.9859 - val_loss: 0.0517 - val_acc: 0.9850\n",
            "Epoch 10/20\n",
            "467/468 [============================>.] - ETA: 0s - loss: 0.0436 - acc: 0.9863Epoch 1/20\n",
            "468/468 [==============================] - 33s 70ms/step - loss: 0.0435 - acc: 0.9863 - val_loss: 0.0546 - val_acc: 0.9824\n",
            "Epoch 11/20\n",
            "467/468 [============================>.] - ETA: 0s - loss: 0.0404 - acc: 0.9879Epoch 1/20\n",
            "468/468 [==============================] - 32s 68ms/step - loss: 0.0403 - acc: 0.9879 - val_loss: 0.0395 - val_acc: 0.9870\n",
            "Epoch 12/20\n",
            "467/468 [============================>.] - ETA: 0s - loss: 0.0384 - acc: 0.9881Epoch 1/20\n",
            "468/468 [==============================] - 32s 68ms/step - loss: 0.0383 - acc: 0.9881 - val_loss: 0.0416 - val_acc: 0.9872\n",
            "Epoch 13/20\n",
            "467/468 [============================>.] - ETA: 0s - loss: 0.0368 - acc: 0.9888Epoch 1/20\n",
            "468/468 [==============================] - 31s 67ms/step - loss: 0.0367 - acc: 0.9888 - val_loss: 0.0386 - val_acc: 0.9880\n",
            "Epoch 14/20\n",
            "467/468 [============================>.] - ETA: 0s - loss: 0.0353 - acc: 0.9889Epoch 1/20\n",
            "468/468 [==============================] - 32s 68ms/step - loss: 0.0353 - acc: 0.9889 - val_loss: 0.0398 - val_acc: 0.9876\n",
            "Epoch 15/20\n",
            "467/468 [============================>.] - ETA: 0s - loss: 0.0339 - acc: 0.9897Epoch 1/20\n",
            "468/468 [==============================] - 31s 67ms/step - loss: 0.0339 - acc: 0.9897 - val_loss: 0.0378 - val_acc: 0.9887\n",
            "Epoch 16/20\n",
            "467/468 [============================>.] - ETA: 0s - loss: 0.0300 - acc: 0.9906Epoch 1/20\n",
            "468/468 [==============================] - 31s 66ms/step - loss: 0.0300 - acc: 0.9906 - val_loss: 0.0460 - val_acc: 0.9862\n",
            "Epoch 17/20\n",
            "467/468 [============================>.] - ETA: 0s - loss: 0.0314 - acc: 0.9903Epoch 1/20\n",
            "468/468 [==============================] - 32s 68ms/step - loss: 0.0314 - acc: 0.9903 - val_loss: 0.0389 - val_acc: 0.9882\n",
            "Epoch 18/20\n",
            "467/468 [============================>.] - ETA: 0s - loss: 0.0299 - acc: 0.9903Epoch 1/20\n",
            "468/468 [==============================] - 31s 66ms/step - loss: 0.0299 - acc: 0.9903 - val_loss: 0.0363 - val_acc: 0.9890\n",
            "Epoch 19/20\n",
            "467/468 [============================>.] - ETA: 0s - loss: 0.0290 - acc: 0.9909Epoch 1/20\n",
            "468/468 [==============================] - 33s 70ms/step - loss: 0.0290 - acc: 0.9909 - val_loss: 0.0352 - val_acc: 0.9897\n",
            "Epoch 20/20\n",
            "467/468 [============================>.] - ETA: 0s - loss: 0.0276 - acc: 0.9910Epoch 1/20\n",
            "468/468 [==============================] - 32s 68ms/step - loss: 0.0276 - acc: 0.9910 - val_loss: 0.0376 - val_acc: 0.9891\n"
          ],
          "name": "stdout"
        },
        {
          "output_type": "execute_result",
          "data": {
            "text/plain": [
              "<tensorflow.python.keras.callbacks.History at 0x7f4bdaec5940>"
            ]
          },
          "metadata": {
            "tags": []
          },
          "execution_count": 29
        }
      ]
    },
    {
      "cell_type": "code",
      "metadata": {
        "id": "ckKjE6nBdF-8",
        "colab_type": "code",
        "outputId": "f96bd493-7510-49ae-c7f1-8ace7d584b26",
        "colab": {
          "base_uri": "https://localhost:8080/",
          "height": 33
        }
      },
      "source": [
        "test_loss, test_acc = model.evaluate(X_test.reshape((X_test.shape[0], 28, 28, 1)), y_test)"
      ],
      "execution_count": 30,
      "outputs": [
        {
          "output_type": "stream",
          "text": [
            "21000/21000 [==============================] - 3s 135us/sample - loss: 0.0274 - acc: 0.9921\n"
          ],
          "name": "stdout"
        }
      ]
    },
    {
      "cell_type": "code",
      "metadata": {
        "id": "k4yrhbQ-d0as",
        "colab_type": "code",
        "outputId": "5dc8aada-7ee9-462d-8b3a-4c2847f8d124",
        "colab": {
          "base_uri": "https://localhost:8080/",
          "height": 33
        }
      },
      "source": [
        "print(test_acc)"
      ],
      "execution_count": 31,
      "outputs": [
        {
          "output_type": "stream",
          "text": [
            "0.99209523\n"
          ],
          "name": "stdout"
        }
      ]
    },
    {
      "cell_type": "markdown",
      "metadata": {
        "id": "EyoGLIyIynPk",
        "colab_type": "text"
      },
      "source": [
        "## Random Forest classifier\n",
        "\n",
        "In this section we will implement a random forest classifier"
      ]
    },
    {
      "cell_type": "code",
      "metadata": {
        "id": "W3atCU-1ytJ7",
        "colab_type": "code",
        "colab": {}
      },
      "source": [
        "from sklearn.ensemble import RandomForestClassifier\n",
        "\n",
        "forest_clf = RandomForestClassifier(n_estimators=256, max_depth=32,\n",
        "                             random_state=0)"
      ],
      "execution_count": 0,
      "outputs": []
    },
    {
      "cell_type": "code",
      "metadata": {
        "id": "ti6-4kcs-ZWz",
        "colab_type": "code",
        "colab": {
          "base_uri": "https://localhost:8080/",
          "height": 134
        },
        "outputId": "f26e0dcb-ce40-43b8-df9e-f2aabee8b63e"
      },
      "source": [
        "forest_clf.fit(Xf, Yf)"
      ],
      "execution_count": 33,
      "outputs": [
        {
          "output_type": "execute_result",
          "data": {
            "text/plain": [
              "RandomForestClassifier(bootstrap=True, class_weight=None, criterion='gini',\n",
              "                       max_depth=32, max_features='auto', max_leaf_nodes=None,\n",
              "                       min_impurity_decrease=0.0, min_impurity_split=None,\n",
              "                       min_samples_leaf=1, min_samples_split=2,\n",
              "                       min_weight_fraction_leaf=0.0, n_estimators=256,\n",
              "                       n_jobs=None, oob_score=False, random_state=0, verbose=0,\n",
              "                       warm_start=False)"
            ]
          },
          "metadata": {
            "tags": []
          },
          "execution_count": 33
        }
      ]
    },
    {
      "cell_type": "code",
      "metadata": {
        "id": "F51IfVxg0EWs",
        "colab_type": "code",
        "colab": {
          "base_uri": "https://localhost:8080/",
          "height": 33
        },
        "outputId": "f8817dba-3700-40b2-f441-a916e44898e3"
      },
      "source": [
        "forest_clf.score(X_train, y_train) "
      ],
      "execution_count": 34,
      "outputs": [
        {
          "output_type": "execute_result",
          "data": {
            "text/plain": [
              "0.9646938775510204"
            ]
          },
          "metadata": {
            "tags": []
          },
          "execution_count": 34
        }
      ]
    },
    {
      "cell_type": "code",
      "metadata": {
        "id": "TembDSIq0hpZ",
        "colab_type": "code",
        "colab": {
          "base_uri": "https://localhost:8080/",
          "height": 33
        },
        "outputId": "c0590da4-20e9-45e6-c3a7-ca570703d8e8"
      },
      "source": [
        "forest_clf.score(X_test, y_test) "
      ],
      "execution_count": 35,
      "outputs": [
        {
          "output_type": "execute_result",
          "data": {
            "text/plain": [
              "0.9614285714285714"
            ]
          },
          "metadata": {
            "tags": []
          },
          "execution_count": 35
        }
      ]
    },
    {
      "cell_type": "markdown",
      "metadata": {
        "id": "rdmncdD61gGK",
        "colab_type": "text"
      },
      "source": [
        "## Voting Classifier"
      ]
    },
    {
      "cell_type": "code",
      "metadata": {
        "id": "qf2NR_aT1iK8",
        "colab_type": "code",
        "colab": {
          "base_uri": "https://localhost:8080/",
          "height": 518
        },
        "outputId": "e53321c2-0b11-46f6-c266-a0b36bf57158"
      },
      "source": [
        "ann_pred = model.predict_proba(X_test.reshape((X_test.shape[0], 28, 28, 1)))\n",
        "rf_pred = forest_clf.predict_proba(X_test)\n",
        "joint_proba = np.sqrt(ann_pred**2 + rf_pred**2)\n",
        "\n",
        "joint_pred = np.argmax(joint_proba, axis=1)\n",
        "joint_poba = np.max(joint_proba, axis=1)\n",
        "\n",
        "from sklearn import metrics\n",
        "\n",
        "expected = y_test\n",
        "predicted = joint_pred\n",
        "print(\"Classification report for classifier %s:\\n%s\\n\"\n",
        "      % ('Joint', metrics.classification_report(expected, predicted, digits=4)))\n",
        "print(\"Confusion matrix:\\n%s\" % metrics.confusion_matrix(expected, predicted))"
      ],
      "execution_count": 37,
      "outputs": [
        {
          "output_type": "stream",
          "text": [
            "Classification report for classifier Joint:\n",
            "              precision    recall  f1-score   support\n",
            "\n",
            "           0     0.9980    0.9922    0.9951      2058\n",
            "           1     0.9966    0.9949    0.9958      2364\n",
            "           2     0.9967    0.9930    0.9948      2133\n",
            "           3     0.9927    0.9968    0.9947      2176\n",
            "           4     0.9943    0.9861    0.9901      1936\n",
            "           5     0.9896    0.9943    0.9919      1915\n",
            "           6     0.9986    0.9904    0.9945      2088\n",
            "           7     0.9911    0.9947    0.9929      2248\n",
            "           8     0.9836    0.9930    0.9883      1992\n",
            "           9     0.9848    0.9904    0.9876      2090\n",
            "\n",
            "    accuracy                         0.9927     21000\n",
            "   macro avg     0.9926    0.9926    0.9926     21000\n",
            "weighted avg     0.9927    0.9927    0.9927     21000\n",
            "\n",
            "\n",
            "Confusion matrix:\n",
            "[[2042    0    0    1    1    2    3    0    9    0]\n",
            " [   0 2352    1    0    1    1    0    7    1    1]\n",
            " [   1    2 2118    5    0    0    0    5    2    0]\n",
            " [   0    0    0 2169    0    4    0    1    2    0]\n",
            " [   0    0    0    0 1909    1    0    3    1   22]\n",
            " [   0    1    0    6    0 1904    0    0    4    0]\n",
            " [   1    2    1    0    2    4 2068    0   10    0]\n",
            " [   0    1    2    1    2    0    0 2236    1    5]\n",
            " [   0    2    2    0    0    4    0    2 1978    4]\n",
            " [   2    0    1    3    5    4    0    2    3 2070]]\n"
          ],
          "name": "stdout"
        }
      ]
    },
    {
      "cell_type": "code",
      "metadata": {
        "id": "NIPHv_dj5dT1",
        "colab_type": "code",
        "colab": {
          "base_uri": "https://localhost:8080/",
          "height": 33
        },
        "outputId": "274f47ae-1547-4184-eb47-cc366d2d7758"
      },
      "source": [
        "fail = expected != predicted\n",
        "fail_exp = expected[fail]\n",
        "fail_pred = predicted[fail]\n",
        "X_fail = X_test[fail,:]\n",
        "proba_fail = joint_poba[fail]\n",
        "X_fail.shape"
      ],
      "execution_count": 38,
      "outputs": [
        {
          "output_type": "execute_result",
          "data": {
            "text/plain": [
              "(154, 784)"
            ]
          },
          "metadata": {
            "tags": []
          },
          "execution_count": 38
        }
      ]
    },
    {
      "cell_type": "code",
      "metadata": {
        "id": "IJfe8m2AHfTn",
        "colab_type": "code",
        "colab": {
          "base_uri": "https://localhost:8080/",
          "height": 33
        },
        "outputId": "1774f281-e168-4850-befc-0bc033f9deef"
      },
      "source": [
        "len(proba_fail[proba_fail > 0.95])"
      ],
      "execution_count": 39,
      "outputs": [
        {
          "output_type": "execute_result",
          "data": {
            "text/plain": [
              "54"
            ]
          },
          "metadata": {
            "tags": []
          },
          "execution_count": 39
        }
      ]
    },
    {
      "cell_type": "code",
      "metadata": {
        "id": "rrlJJZ9z5tDi",
        "colab_type": "code",
        "colab": {
          "base_uri": "https://localhost:8080/",
          "height": 315
        },
        "outputId": "025899f4-816f-4094-e812-9dcc6caf52b5"
      },
      "source": [
        "num = 17\n",
        "\n",
        "digit = X_fail[num]\n",
        "digit_im = digit.reshape(28, 28)\n",
        "plt.imshow(digit_im, interpolation='nearest', cmap=mpl.cm.binary)\n",
        "print('This is a %d' %int(fail_exp[num]))\n",
        "print('The model predicted %d' %(int(fail_pred[num])))\n",
        "print('with certainty %f' %(proba_fail[num]))"
      ],
      "execution_count": 40,
      "outputs": [
        {
          "output_type": "stream",
          "text": [
            "This is a 9\n",
            "The model predicted 8\n",
            "with certainty 0.960344\n"
          ],
          "name": "stdout"
        },
        {
          "output_type": "display_data",
          "data": {
            "image/png": "[encoded data removed]",
            "text/plain": [
              "<Figure size 432x288 with 1 Axes>"
            ]
          },
          "metadata": {
            "tags": []
          }
        }
      ]
    },
    {
      "cell_type": "code",
      "metadata": {
        "id": "w1GEOVD8MIUA",
        "colab_type": "code",
        "colab": {
          "base_uri": "https://localhost:8080/",
          "height": 201
        },
        "outputId": "b3bfb466-8415-4f7b-ff9e-a1274db7cefa"
      },
      "source": [
        "fig, axs = plt.subplots(1, 20, figsize=(50, 5))\n",
        "\n",
        "for c, ax in enumerate(axs):\n",
        "    digit = X_fail[c]\n",
        "    digit = digit.reshape(28, 28)\n",
        "    ax.imshow(digit, interpolation='nearest', cmap=mpl.cm.binary)\n",
        "    ax.set_title('Is %d, predicted %d' %(int(fail_exp[c]), int(fail_pred[c])))\n",
        "\n",
        "plt.show()"
      ],
      "execution_count": 52,
      "outputs": [
        {
          "output_type": "display_data",
          "data": {
            "image/png": "[encoded data removed]",
            "text/plain": [
              "<Figure size 3600x360 with 20 Axes>"
            ]
          },
          "metadata": {
            "tags": []
          }
        }
      ]
    },
    {
      "cell_type": "markdown",
      "metadata": {
        "id": "V2pW8fPQOMun",
        "colab_type": "text"
      },
      "source": [
        "As we can see above some of the mismatches are actually difficult to ascertain even for a human.\n",
        "The model is achieving pretty good !"
      ]
    },
    {
      "cell_type": "code",
      "metadata": {
        "id": "y0bD_Z28OWOt",
        "colab_type": "code",
        "colab": {}
      },
      "source": [
        ""
      ],
      "execution_count": 0,
      "outputs": []
    }
  ]
}