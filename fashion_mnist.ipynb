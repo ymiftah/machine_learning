{
  "nbformat": 4,
  "nbformat_minor": 0,
  "metadata": {
    "kernelspec": {
      "name": "python3",
      "display_name": "Python 3"
    },
    "language_info": {
      "codemirror_mode": {
        "name": "ipython",
        "version": 3
      },
      "file_extension": ".py",
      "mimetype": "text/x-python",
      "name": "python",
      "nbconvert_exporter": "python",
      "pygments_lexer": "ipython3",
      "version": "3.7.5"
    },
    "colab": {
      "name": "fashion_mnist.ipynb",
      "provenance": [],
      "collapsed_sections": [
        "18pd2KnpZxiw",
        "ftoYqzRHZxjI",
        "JX3OwqI__tbp",
        "qLhg1cbj9ZE6"
      ],
      "include_colab_link": true
    },
    "accelerator": "GPU"
  },
  "cells": [
    {
      "cell_type": "markdown",
      "metadata": {
        "id": "view-in-github",
        "colab_type": "text"
      },
      "source": [
        "<a href=\"https://colab.research.google.com/github/ymiftah/machine_learning/blob/master/fashion_mnist.ipynb\" target=\"_parent\"><img src=\"https://colab.research.google.com/assets/colab-badge.svg\" alt=\"Open In Colab\"/></a>"
      ]
    },
    {
      "cell_type": "markdown",
      "metadata": {
        "id": "18pd2KnpZxiw",
        "colab_type": "text"
      },
      "source": [
        "# Fashion MNIST\n",
        "\n",
        "## Disclaimer\n",
        "\n",
        "The following is expanded on examples from Aurélien Géron's book _\"Hands-On Machine Learning with Scikit-Learn, Keras, and TensorFlow. O'Reilly Media.\"_\n",
        "\n",
        "Code borrowed from other sources are clearly identified"
      ]
    },
    {
      "cell_type": "code",
      "metadata": {
        "id": "kLAh5fDU9AgN",
        "colab_type": "code",
        "colab": {}
      },
      "source": [
        "# Load the TensorBoard notebook extension\n",
        "%load_ext tensorboard"
      ],
      "execution_count": 0,
      "outputs": []
    },
    {
      "cell_type": "code",
      "metadata": {
        "id": "3HL4W3l4Zxi4",
        "colab_type": "code",
        "outputId": "d704761c-812e-4504-b41d-88ab39df1934",
        "colab": {
          "base_uri": "https://localhost:8080/",
          "height": 98
        }
      },
      "source": [
        "import tensorflow as tf\n",
        "from tensorflow.keras.layers import Flatten, Dense, Input, Reshape\n",
        "from tensorflow.keras.layers import Conv2D, Dropout, MaxPooling2D, BatchNormalization\n",
        "from tensorflow.keras.models import Sequential\n",
        "import pandas as pd\n",
        "import numpy as np\n",
        "import matplotlib.pyplot as plt\n",
        "\n",
        "import random\n",
        "\n",
        "print (\"Random seed set to 42\")\n",
        "random.seed(42)"
      ],
      "execution_count": 2,
      "outputs": [
        {
          "output_type": "display_data",
          "data": {
            "text/html": [
              "<p style=\"color: red;\">\n",
              "The default version of TensorFlow in Colab will soon switch to TensorFlow 2.x.<br>\n",
              "We recommend you <a href=\"https://www.tensorflow.org/guide/migrate\" target=\"_blank\">upgrade</a> now \n",
              "or ensure your notebook will continue to use TensorFlow 1.x via the <code>%tensorflow_version 1.x</code> magic:\n",
              "<a href=\"https://colab.research.google.com/notebooks/tensorflow_version.ipynb\" target=\"_blank\">more info</a>.</p>\n"
            ],
            "text/plain": [
              "<IPython.core.display.HTML object>"
            ]
          },
          "metadata": {
            "tags": []
          }
        },
        {
          "output_type": "stream",
          "text": [
            "Random seed set to 42\n"
          ],
          "name": "stdout"
        }
      ]
    },
    {
      "cell_type": "code",
      "metadata": {
        "id": "-NjueYeMZxjC",
        "colab_type": "code",
        "colab": {}
      },
      "source": [
        "import os\n",
        "root_logdir = os.path.join(os.curdir, \"my_logs\")\n",
        "\n",
        "def get_run_logdir():\n",
        "    import time\n",
        "    run_id = time.strftime(\"run_%Y_%m_%d-%H_%M_%S\")\n",
        "    return os.path.join(root_logdir, run_id)\n",
        "\n",
        "run_logdir = get_run_logdir()\n",
        "        \n",
        "tensorboard_cb = tf.keras.callbacks.TensorBoard(run_logdir)\n",
        "checkpoint_cb = tf.keras.callbacks.ModelCheckpoint(\"my_keras_model.h5\")\n",
        "early_stopping_cb = tf.keras.callbacks.EarlyStopping(patience=10,\n",
        "                                                  restore_best_weights=True)"
      ],
      "execution_count": 0,
      "outputs": []
    },
    {
      "cell_type": "markdown",
      "metadata": {
        "id": "ftoYqzRHZxjI",
        "colab_type": "text"
      },
      "source": [
        "## Fashion MNIST"
      ]
    },
    {
      "cell_type": "code",
      "metadata": {
        "id": "lPHUIlFYZxjK",
        "colab_type": "code",
        "colab": {
          "base_uri": "https://localhost:8080/",
          "height": 178
        },
        "outputId": "b2d38fd6-57b1-437d-a7d7-ab03ce1e62da"
      },
      "source": [
        "fashion_mnist = tf.keras.datasets.fashion_mnist\n",
        "(X_train_full, y_train_full), (X_test, y_test) = fashion_mnist.load_data()\n",
        "\n",
        "X_test = X_test / 255.\n",
        "X_valid, X_train = X_train_full[:5000]/255., X_train_full[5000:]/255.\n",
        "y_valid, y_train = y_train_full[:5000], y_train_full[5000:]\n",
        "\n",
        "\n",
        "class_names = [\"T-shirt/top\", \"Trouser\", \"Pullover\", \"Dress\", \"Coat\",\n",
        "               \"Sandal\", \"Shirt\", \"Sneaker\", \"Bag\", \"Ankle boot\"]\n",
        "num_classes = len(class_names)"
      ],
      "execution_count": 4,
      "outputs": [
        {
          "output_type": "stream",
          "text": [
            "Downloading data from https://storage.googleapis.com/tensorflow/tf-keras-datasets/train-labels-idx1-ubyte.gz\n",
            "32768/29515 [=================================] - 0s 0us/step\n",
            "Downloading data from https://storage.googleapis.com/tensorflow/tf-keras-datasets/train-images-idx3-ubyte.gz\n",
            "26427392/26421880 [==============================] - 0s 0us/step\n",
            "Downloading data from https://storage.googleapis.com/tensorflow/tf-keras-datasets/t10k-labels-idx1-ubyte.gz\n",
            "8192/5148 [===============================================] - 0s 0us/step\n",
            "Downloading data from https://storage.googleapis.com/tensorflow/tf-keras-datasets/t10k-images-idx3-ubyte.gz\n",
            "4423680/4422102 [==============================] - 0s 0us/step\n"
          ],
          "name": "stdout"
        }
      ]
    },
    {
      "cell_type": "markdown",
      "metadata": {
        "id": "JX3OwqI__tbp",
        "colab_type": "text"
      },
      "source": [
        "## Model creation\n",
        "\n",
        "We create a two branch model\n",
        "- A first branch is made of dense layers with selu activation and lecun normal initializer.\n",
        "- A second branch is made of convolution layers using elu and relu activations\n",
        "\n",
        "Dropout cells are used to reduce overfitting, without totally erasing it."
      ]
    },
    {
      "cell_type": "code",
      "metadata": {
        "id": "HgYjgckutKJT",
        "colab_type": "code",
        "outputId": "88eef816-baf9-4720-9313-6a0a5c00eb33",
        "colab": {
          "base_uri": "https://localhost:8080/",
          "height": 34
        }
      },
      "source": [
        "a = [].append([1,])\n",
        "print(a)"
      ],
      "execution_count": 5,
      "outputs": [
        {
          "output_type": "stream",
          "text": [
            "None\n"
          ],
          "name": "stdout"
        }
      ]
    },
    {
      "cell_type": "code",
      "metadata": {
        "id": "DraiekO70vUV",
        "colab_type": "code",
        "colab": {}
      },
      "source": [
        "class DenseSequence(tf.keras.layers.Layer):\n",
        "    def __init__(self, n_loop, **kwargs):\n",
        "        super().__init__(**kwargs)\n",
        "        self.hidden = [Dense(300, activation=\"selu\", kernel_initializer='lecun_normal')\n",
        "            for _ in range(n_loop)]\n",
        "        self.dp = Dropout(0.2)\n",
        "    \n",
        "    def call(self, inputs):\n",
        "        Z = inputs\n",
        "        for layer in self.hidden:\n",
        "            Z = layer(Z)\n",
        "            Z = self.dp(Z)\n",
        "        return Z\n",
        "\n",
        "    def get_config(self):\n",
        "        base_config = super().get_config()\n",
        "        return {**base_config, \"n_loop\": self.n_loop}\n",
        "\n",
        "\n",
        "class ConvLayer(tf.keras.layers.Layer):\n",
        "    def __init__(self, n_filters, **kwargs):\n",
        "        super().__init__(**kwargs)\n",
        "        self.n_filters = n_filters\n",
        "\n",
        "        self.conv2a = Conv2D(n_filters, (3, 3), activation='elu',\n",
        "                             kernel_initializer=\"he_normal\", padding='same')\n",
        "        self.bn2a = BatchNormalization()\n",
        "\n",
        "        self.conv2b = Conv2D(n_filters, (3, 3), activation='elu',\n",
        "                             kernel_initializer=\"he_normal\", padding='same')\n",
        "        self.bn2b = BatchNormalization()\n",
        "\n",
        "        self.mp = MaxPooling2D(pool_size=(2, 2))\n",
        "        self.dp = Dropout(0.3)\n",
        "    \n",
        "    def call(self, input_tensor, training=False):\n",
        "        x = self.conv2a(input_tensor)\n",
        "        x = self.bn2a(x, training=training)\n",
        "\n",
        "        x = self.conv2b(x)\n",
        "        x = self.bn2b(x, training=training)\n",
        "\n",
        "        x = self.mp(x)\n",
        "        x = self.dp(x, training=training)\n",
        "\n",
        "        return x\n",
        "\n",
        "    def get_config(self):\n",
        "        base_config = super().get_config()\n",
        "        return {**base_config, \"n_filters\": self.n_filters}"
      ],
      "execution_count": 0,
      "outputs": []
    },
    {
      "cell_type": "code",
      "metadata": {
        "id": "YzYRYhOHZxjS",
        "colab_type": "code",
        "colab": {}
      },
      "source": [
        "# We create our model\n",
        "class CustomModel(tf.keras.Model):\n",
        "    def __init__(self, output_dim, **kwargs):\n",
        "        super().__init__(**kwargs)\n",
        "        self.route_A = DenseSequence(4)\n",
        "        self.route_B = ConvLayer(32)\n",
        "        self.route_B2 = ConvLayer(32)\n",
        "        self.dp = Dropout(.3)\n",
        "\n",
        "        self.denser = Dense(256, activation=\"elu\", kernel_initializer=\"he_normal\")\n",
        "        self.out = Dense(output_dim, activation=\"softmax\")\n",
        "\n",
        "    def build(self, batch_input_shape):\n",
        "        n_inputs = np.prod(batch_input_shape[1:])\n",
        "\n",
        "        self.reconstruct = tf.keras.layers.Dense(n_inputs)\n",
        "        super().build(batch_input_shape)\n",
        "\n",
        "    def call(self, inputs_):\n",
        "        # First branch is dense layers\n",
        "        in_A = Flatten()(inputs_)\n",
        "        nn = self.route_A(in_A)\n",
        "        \n",
        "        # Second branch are CNN\n",
        "        in_B = Reshape((28,28,1))(inputs_)\n",
        "\n",
        "        cnn = self.route_B(in_B)\n",
        "        cnn = self.dp(cnn)\n",
        "        cnn = self.route_B2(cnn)\n",
        "        cnn = self.dp(cnn)\n",
        "\n",
        "        cnn = Flatten()(cnn)\n",
        "\n",
        "        cat = tf.keras.layers.Concatenate()([nn, cnn])\n",
        "        cat = self.denser(cat)\n",
        "\n",
        "        reconstruction = self.reconstruct(cat)\n",
        "        recon_loss = tf.reduce_mean(tf.square(reconstruction - in_A))\n",
        "        self.add_loss(0.1 * recon_loss)\n",
        "\n",
        "        return self.out(cat)"
      ],
      "execution_count": 0,
      "outputs": []
    },
    {
      "cell_type": "code",
      "metadata": {
        "scrolled": true,
        "id": "dryC1h2DZxjW",
        "colab_type": "code",
        "colab": {}
      },
      "source": [
        "model = CustomModel(num_classes)\n",
        "\n",
        "model.compile(loss=\"sparse_categorical_crossentropy\",\n",
        "              optimizer='Adam',\n",
        "              metrics=[\"accuracy\"])"
      ],
      "execution_count": 0,
      "outputs": []
    },
    {
      "cell_type": "code",
      "metadata": {
        "scrolled": true,
        "id": "e0KdLYEzZxja",
        "colab_type": "code",
        "outputId": "46e3f500-bc97-4e65-ee75-defdbea75429",
        "colab": {
          "base_uri": "https://localhost:8080/",
          "height": 530
        }
      },
      "source": [
        "history = model.fit(X_train, y_train,\n",
        "                    validation_data=(X_valid, y_valid),\n",
        "                    epochs=10,\n",
        "                    batch_size=32,\n",
        "                    callbacks=[checkpoint_cb, early_stopping_cb,\n",
        "                               tensorboard_cb])"
      ],
      "execution_count": 9,
      "outputs": [
        {
          "output_type": "stream",
          "text": [
            "WARNING:tensorflow:From /usr/local/lib/python3.6/dist-packages/tensorflow_core/python/ops/resource_variable_ops.py:1630: calling BaseResourceVariable.__init__ (from tensorflow.python.ops.resource_variable_ops) with constraint is deprecated and will be removed in a future version.\n",
            "Instructions for updating:\n",
            "If using Keras pass *_constraint arguments to layers.\n",
            "WARNING:tensorflow:From /usr/local/lib/python3.6/dist-packages/tensorflow_core/python/keras/backend.py:4277: where (from tensorflow.python.ops.array_ops) is deprecated and will be removed in a future version.\n",
            "Instructions for updating:\n",
            "Use tf.where in 2.0, which has the same broadcast rule as np.where\n",
            "Train on 55000 samples, validate on 5000 samples\n",
            "Epoch 1/10\n",
            "   32/55000 [..............................] - ETA: 1:56:54 - loss: 3.3875 - acc: 0.2188WARNING:tensorflow:Method (on_train_batch_end) is slow compared to the batch update (0.169575). Check your callbacks.\n",
            "55000/55000 [==============================] - 15s 279us/sample - loss: 0.4600 - acc: 0.8364 - val_loss: 0.3191 - val_acc: 0.8868\n",
            "Epoch 2/10\n",
            "55000/55000 [==============================] - 11s 198us/sample - loss: 0.3215 - acc: 0.8825 - val_loss: 0.3067 - val_acc: 0.8896\n",
            "Epoch 3/10\n",
            "55000/55000 [==============================] - 11s 200us/sample - loss: 0.2818 - acc: 0.8964 - val_loss: 0.2598 - val_acc: 0.9032\n",
            "Epoch 4/10\n",
            "55000/55000 [==============================] - 11s 198us/sample - loss: 0.2600 - acc: 0.9038 - val_loss: 0.2373 - val_acc: 0.9104\n",
            "Epoch 5/10\n",
            "55000/55000 [==============================] - 11s 202us/sample - loss: 0.2372 - acc: 0.9135 - val_loss: 0.2228 - val_acc: 0.9228\n",
            "Epoch 6/10\n",
            "55000/55000 [==============================] - 11s 200us/sample - loss: 0.2679 - acc: 0.9131 - val_loss: 0.2227 - val_acc: 0.9214\n",
            "Epoch 7/10\n",
            "55000/55000 [==============================] - 11s 200us/sample - loss: 0.2098 - acc: 0.9241 - val_loss: 0.2072 - val_acc: 0.9308\n",
            "Epoch 8/10\n",
            "55000/55000 [==============================] - 11s 200us/sample - loss: 0.2027 - acc: 0.9259 - val_loss: 0.2342 - val_acc: 0.9240\n",
            "Epoch 9/10\n",
            "55000/55000 [==============================] - 11s 199us/sample - loss: 0.1945 - acc: 0.9287 - val_loss: 0.2270 - val_acc: 0.9222\n",
            "Epoch 10/10\n",
            "55000/55000 [==============================] - 11s 204us/sample - loss: 0.1880 - acc: 0.9323 - val_loss: 0.2250 - val_acc: 0.9246\n"
          ],
          "name": "stdout"
        }
      ]
    },
    {
      "cell_type": "code",
      "metadata": {
        "id": "f9aoCkT3Zxje",
        "colab_type": "code",
        "outputId": "f1c0b16a-c23a-4fb9-e629-f7c81ad3c5b9",
        "colab": {
          "base_uri": "https://localhost:8080/",
          "height": 324
        }
      },
      "source": [
        "pd.DataFrame(history.history).plot(figsize=(8, 5))\n",
        "plt.grid(True)\n",
        "plt.gca().set_ylim(0, 1) # set the vertical range to [0-1]\n",
        "plt.show()"
      ],
      "execution_count": 10,
      "outputs": [
        {
          "output_type": "display_data",
          "data": {
            "image/png": "[encoded data removed]",
            "text/plain": [
              "<Figure size 576x360 with 1 Axes>"
            ]
          },
          "metadata": {
            "tags": []
          }
        }
      ]
    },
    {
      "cell_type": "code",
      "metadata": {
        "id": "0qeG9x9T9NRB",
        "colab_type": "code",
        "outputId": "60ad0c41-0898-46c3-e77e-1885f9a27b38",
        "colab": {
          "base_uri": "https://localhost:8080/",
          "height": 17
        }
      },
      "source": [
        "%tensorboard --logdir my_logs"
      ],
      "execution_count": 11,
      "outputs": [
        {
          "output_type": "display_data",
          "data": {
            "text/html": [
              "\n",
              "    <div id=\"root\"></div>\n",
              "    <script>\n",
              "      (function() {\n",
              "        window.TENSORBOARD_ENV = window.TENSORBOARD_ENV || {};\n",
              "        window.TENSORBOARD_ENV[\"IN_COLAB\"] = true;\n",
              "        document.querySelector(\"base\").href = \"https://localhost:6006\";\n",
              "        function fixUpTensorboard(root) {\n",
              "          const tftb = root.querySelector(\"tf-tensorboard\");\n",
              "          // Disable the fragment manipulation behavior in Colab. Not\n",
              "          // only is the behavior not useful (as the iframe's location\n",
              "          // is not visible to the user), it causes TensorBoard's usage\n",
              "          // of `window.replace` to navigate away from the page and to\n",
              "          // the `localhost:<port>` URL specified by the base URI, which\n",
              "          // in turn causes the frame to (likely) crash.\n",
              "          tftb.removeAttribute(\"use-hash\");\n",
              "        }\n",
              "        function executeAllScripts(root) {\n",
              "          // When `script` elements are inserted into the DOM by\n",
              "          // assigning to an element's `innerHTML`, the scripts are not\n",
              "          // executed. Thus, we manually re-insert these scripts so that\n",
              "          // TensorBoard can initialize itself.\n",
              "          for (const script of root.querySelectorAll(\"script\")) {\n",
              "            const newScript = document.createElement(\"script\");\n",
              "            newScript.type = script.type;\n",
              "            newScript.textContent = script.textContent;\n",
              "            root.appendChild(newScript);\n",
              "            script.remove();\n",
              "          }\n",
              "        }\n",
              "        function setHeight(root, height) {\n",
              "          // We set the height dynamically after the TensorBoard UI has\n",
              "          // been initialized. This avoids an intermediate state in\n",
              "          // which the container plus the UI become taller than the\n",
              "          // final width and cause the Colab output frame to be\n",
              "          // permanently resized, eventually leading to an empty\n",
              "          // vertical gap below the TensorBoard UI. It's not clear\n",
              "          // exactly what causes this problematic intermediate state,\n",
              "          // but setting the height late seems to fix it.\n",
              "          root.style.height = `${height}px`;\n",
              "        }\n",
              "        const root = document.getElementById(\"root\");\n",
              "        fetch(\".\")\n",
              "          .then((x) => x.text())\n",
              "          .then((html) => void (root.innerHTML = html))\n",
              "          .then(() => fixUpTensorboard(root))\n",
              "          .then(() => executeAllScripts(root))\n",
              "          .then(() => setHeight(root, 800));\n",
              "      })();\n",
              "    </script>\n",
              "  "
            ],
            "text/plain": [
              "<IPython.core.display.HTML object>"
            ]
          },
          "metadata": {
            "tags": []
          }
        }
      ]
    },
    {
      "cell_type": "markdown",
      "metadata": {
        "id": "xpg0oeLJ98iI",
        "colab_type": "text"
      },
      "source": [
        "## Evaluate the model"
      ]
    },
    {
      "cell_type": "code",
      "metadata": {
        "id": "ixZe3UKQZxjh",
        "colab_type": "code",
        "outputId": "6b2b6c9d-e306-47ec-9177-cd5334d3eab2",
        "colab": {
          "base_uri": "https://localhost:8080/",
          "height": 34
        }
      },
      "source": [
        "y_proba = model.predict(X_test)\n",
        "y_pred = np.argmax(y_proba, axis=1)\n",
        "\n",
        "_, acc = model.evaluate(X_test, y_test, verbose=0)\n",
        "print('Accuracy is : %.3f' %acc)"
      ],
      "execution_count": 12,
      "outputs": [
        {
          "output_type": "stream",
          "text": [
            "Accuracy is : 0.916\n"
          ],
          "name": "stdout"
        }
      ]
    },
    {
      "cell_type": "code",
      "metadata": {
        "id": "G6GEZdt6Zxjq",
        "colab_type": "code",
        "outputId": "c9b692ad-bc20-4f10-e841-fc1487a718ac",
        "colab": {
          "base_uri": "https://localhost:8080/",
          "height": 454
        }
      },
      "source": [
        "## Code adapted with minimal changes from sklearn\n",
        "## https://scikit-learn.org/stable/auto_examples/model_selection/plot_confusion_matrix.html#sphx-glr-auto-examples-model-selection-plot-confusion-matrix-py\n",
        "##\n",
        "\n",
        "from sklearn.metrics import confusion_matrix\n",
        "\n",
        "def plot_confusion_matrix(y_true, y_pred, classes,\n",
        "                          normalize=False,\n",
        "                          title=None,\n",
        "                          cmap=plt.cm.Blues):\n",
        "    \"\"\"\n",
        "    This function prints and plots the confusion matrix.\n",
        "    Normalization can be applied by setting `normalize=True`.\n",
        "    \"\"\"\n",
        "    title = 'Normalized confusion matrix'\n",
        "\n",
        "    # Compute confusion matrix\n",
        "    cm = confusion_matrix(y_true, y_pred)\n",
        "\n",
        "    cm = cm.astype('float') / cm.sum(axis=1)[:, np.newaxis]\n",
        "    print(\"Normalized confusion matrix\")\n",
        "\n",
        "    fig, ax = plt.subplots(figsize=(6, 6))\n",
        "    # We want to show all ticks...\n",
        "    ax.set(xticks=np.arange(cm.shape[1]),\n",
        "           yticks=np.arange(cm.shape[0]),\n",
        "           # ... and label them with the respective list entries\n",
        "           xticklabels=classes, yticklabels=classes,\n",
        "           title=title,\n",
        "           ylabel='True label',\n",
        "           xlabel='Predicted label')\n",
        "    im = ax.imshow(cm, interpolation='nearest', cmap=cmap)\n",
        "    ax.figure.colorbar(im, ax=ax)\n",
        "\n",
        "    # Rotate the tick labels and set their alignment.\n",
        "    plt.setp(ax.get_xticklabels(), rotation=45, ha=\"right\",\n",
        "             rotation_mode=\"anchor\")\n",
        "\n",
        "    # Loop over data dimensions and create text annotations.\n",
        "    fmt = '.2f' if normalize else 'd'\n",
        "    thresh = cm.max() / 2.\n",
        "    for i in range(cm.shape[0]):\n",
        "        for j in range(cm.shape[1]):\n",
        "            ax.text(j, i, format(cm[i, j], fmt),\n",
        "                    ha=\"center\", va=\"center\",\n",
        "                    color=\"white\" if cm[i, j] > thresh else \"black\")\n",
        "    fig.tight_layout()\n",
        "    return ax\n",
        "\n",
        "\n",
        "np.set_printoptions(precision=1)\n",
        "\n",
        "# Plot non-normalized confusion matrix\n",
        "plot_confusion_matrix(y_test, y_pred, classes=class_names, normalize=True,\n",
        "                      title='Confusion matrix, without normalization')"
      ],
      "execution_count": 13,
      "outputs": [
        {
          "output_type": "stream",
          "text": [
            "Normalized confusion matrix\n"
          ],
          "name": "stdout"
        },
        {
          "output_type": "execute_result",
          "data": {
            "text/plain": [
              "<matplotlib.axes._subplots.AxesSubplot at 0x7f8e8012b048>"
            ]
          },
          "metadata": {
            "tags": []
          },
          "execution_count": 13
        },
        {
          "output_type": "display_data",
          "data": {
            "image/png": "[encoded data removed]",
            "text/plain": [
              "<Figure size 432x432 with 2 Axes>"
            ]
          },
          "metadata": {
            "tags": []
          }
        }
      ]
    },
    {
      "cell_type": "code",
      "metadata": {
        "scrolled": true,
        "id": "-9fe-x4CZxjo",
        "colab_type": "code",
        "outputId": "ba80063a-573d-4c26-ae84-25bef2e2eab2",
        "colab": {
          "base_uri": "https://localhost:8080/",
          "height": 316
        }
      },
      "source": [
        "from sklearn.metrics import classification_report\n",
        "\n",
        "print(classification_report(y_test, y_pred, target_names=class_names))"
      ],
      "execution_count": 14,
      "outputs": [
        {
          "output_type": "stream",
          "text": [
            "              precision    recall  f1-score   support\n",
            "\n",
            " T-shirt/top       0.93      0.79      0.85      1000\n",
            "     Trouser       0.99      0.99      0.99      1000\n",
            "    Pullover       0.89      0.86      0.88      1000\n",
            "       Dress       0.89      0.96      0.92      1000\n",
            "        Coat       0.89      0.88      0.88      1000\n",
            "      Sandal       0.95      1.00      0.97      1000\n",
            "       Shirt       0.73      0.81      0.76      1000\n",
            "     Sneaker       0.95      0.96      0.96      1000\n",
            "         Bag       0.99      0.98      0.98      1000\n",
            "  Ankle boot       0.99      0.94      0.97      1000\n",
            "\n",
            "    accuracy                           0.92     10000\n",
            "   macro avg       0.92      0.92      0.92     10000\n",
            "weighted avg       0.92      0.92      0.92     10000\n",
            "\n"
          ],
          "name": "stdout"
        }
      ]
    },
    {
      "cell_type": "markdown",
      "metadata": {
        "id": "FbEJZ4dsmYo7",
        "colab_type": "text"
      },
      "source": [
        "92 % Accuracy ! Not bad.\n",
        "\n",
        "We can visualize some predictions"
      ]
    },
    {
      "cell_type": "code",
      "metadata": {
        "id": "qnmqSW0YZxjt",
        "colab_type": "code",
        "outputId": "d56b1d83-18b3-4954-b439-8468bd3eeede",
        "colab": {
          "base_uri": "https://localhost:8080/",
          "height": 589
        }
      },
      "source": [
        "## Credits to kaggler Arunkumar Venkataramanan @https://www.kaggle.com/arunkumarramanan\n",
        "## https://www.kaggle.com/arunkumarramanan/awesome-cv-with-fashion-mnist-classification\n",
        "\n",
        "plt.figure(figsize=(10,10))\n",
        "for i in range(25):\n",
        "    plt.subplot(5,5,i+1)\n",
        "    plt.xticks([])\n",
        "    plt.yticks([])\n",
        "    plt.grid(False)\n",
        "    plt.imshow(X_test[i], cmap=plt.cm.binary)\n",
        "    plt.xlabel(class_names[y_test[i]] + ' // ' + class_names[y_pred[i]])\n",
        "plt.show()"
      ],
      "execution_count": 15,
      "outputs": [
        {
          "output_type": "display_data",
          "data": {
            "image/png": "[encoded data removed]",
            "text/plain": [
              "<Figure size 720x720 with 25 Axes>"
            ]
          },
          "metadata": {
            "tags": []
          }
        }
      ]
    },
    {
      "cell_type": "code",
      "metadata": {
        "id": "bDJcuQXCk7K1",
        "colab_type": "code",
        "colab": {}
      },
      "source": [
        "model.save_weights('toto.h5')"
      ],
      "execution_count": 0,
      "outputs": []
    },
    {
      "cell_type": "markdown",
      "metadata": {
        "id": "qLhg1cbj9ZE6",
        "colab_type": "text"
      },
      "source": [
        "## Reloading a model"
      ]
    },
    {
      "cell_type": "code",
      "metadata": {
        "id": "JS6V_TrY3Nrj",
        "colab_type": "code",
        "colab": {
          "base_uri": "https://localhost:8080/",
          "height": 52
        },
        "outputId": "630978a0-289e-4399-c635-58783e28fa38"
      },
      "source": [
        "# Reinstanciate a model\n",
        "bla = CustomModel(num_classes)\n",
        "\n",
        "# Compile the model\n",
        "bla.compile(loss=\"sparse_categorical_crossentropy\",\n",
        "              optimizer='Adam',\n",
        "              metrics=[\"accuracy\"])\n",
        "\n",
        "# Train on a batch of a single instance to initialize the graph\n",
        "bla.train_on_batch(X_train[:1], y_train[:1])\n",
        "\n",
        "# Load saved weights\n",
        "bla.load_weights('toto.h5')\n",
        "\n",
        "# Evaluate to confirm\n",
        "bla.evaluate(X_test,y_test)"
      ],
      "execution_count": 26,
      "outputs": [
        {
          "output_type": "stream",
          "text": [
            "10000/10000 [==============================] - 1s 108us/sample - loss: 0.2549 - acc: 0.9165\n"
          ],
          "name": "stdout"
        },
        {
          "output_type": "execute_result",
          "data": {
            "text/plain": [
              "[0.2548863026201725, 0.9165]"
            ]
          },
          "metadata": {
            "tags": []
          },
          "execution_count": 26
        }
      ]
    },
    {
      "cell_type": "markdown",
      "metadata": {
        "id": "N0M-Mgaj93UW",
        "colab_type": "text"
      },
      "source": [
        "All good !"
      ]
    }
  ]
}